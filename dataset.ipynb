{
 "cells": [
  {
   "cell_type": "code",
   "execution_count": 14,
   "id": "cf167328-93a1-4c2e-8802-4044b1d81fa7",
   "metadata": {},
   "outputs": [
    {
     "name": "stdout",
     "output_type": "stream",
     "text": [
      "20000 sentences generated and saved to sentences.json\n"
     ]
    }
   ],
   "source": [
    "import random\n",
    "import json\n",
    "\n",
    "def generate_sentence():\n",
    "  \"\"\"Generates a random sentence and its corresponding JSON representation.\"\"\"\n",
    "\n",
    "  nouns = [\"house\", \"car\", \"tree\", \"city\", \"book\", \"computer\", \"phone\", \"table\", \"chair\", \"window\"]\n",
    "  verbs = [\"bought\", \"sold\", \"cleaned\", \"repaired\", \"used\", \"read\", \"wrote\", \"watched\", \"played\", \"opened\"]\n",
    "  pronouns = [\"he\", \"she\", \"they\", \"I\", \"we\"]\n",
    "  determiners = [\"the\", \"a\", \"this\", \"that\", \"my\", \"your\", \"his\", \"her\", \"their\", \"our\"]\n",
    "\n",
    "  noun = random.choice(nouns)\n",
    "  verb = random.choice(verbs)\n",
    "  pronoun = random.choice(pronouns)\n",
    "  determiner = random.choice(determiners)\n",
    "\n",
    "  sentence = f\"{pronoun} {verb} {determiner} {noun}\"\n",
    "  json_data = f'{{\"{pronoun}\": \"{verb}\", \"{determiner}\": \"{noun}\"}}<|endoftext|>'\n",
    "\n",
    "  return f\"{sentence}\\n {json_data}\"\n",
    "\n",
    "# Generate 20000 sentences\n",
    "sentences = [generate_sentence() for _ in range(20000)]\n",
    "\n",
    "# Save the list of sentences to a JSON file\n",
    "with open(\"sentences.json\", \"w\") as f:\n",
    "  json.dump(sentences, f, indent=4)  # Use indent for better readability\n",
    "\n",
    "print(f\"20000 sentences generated and saved to sentences.json\")"
   ]
  },
  {
   "cell_type": "code",
   "execution_count": null,
   "id": "98ddc41c-e784-4702-a5e7-df082281565f",
   "metadata": {},
   "outputs": [],
   "source": []
  }
 ],
 "metadata": {
  "kernelspec": {
   "display_name": "Python 3 (ipykernel)",
   "language": "python",
   "name": "python3"
  },
  "language_info": {
   "codemirror_mode": {
    "name": "ipython",
    "version": 3
   },
   "file_extension": ".py",
   "mimetype": "text/x-python",
   "name": "python",
   "nbconvert_exporter": "python",
   "pygments_lexer": "ipython3",
   "version": "3.12.8"
  }
 },
 "nbformat": 4,
 "nbformat_minor": 5
}
